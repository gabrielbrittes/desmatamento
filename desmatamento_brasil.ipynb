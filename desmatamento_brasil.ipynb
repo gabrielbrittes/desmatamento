{
  "nbformat": 4,
  "nbformat_minor": 0,
  "metadata": {
    "colab": {
      "provenance": [],
      "authorship_tag": "ABX9TyNrWegPB0t/apSYrxyuxYkz",
      "include_colab_link": true
    },
    "kernelspec": {
      "name": "python3",
      "display_name": "Python 3"
    },
    "language_info": {
      "name": "python"
    }
  },
  "cells": [
    {
      "cell_type": "markdown",
      "metadata": {
        "id": "view-in-github",
        "colab_type": "text"
      },
      "source": [
        "<a href=\"https://colab.research.google.com/github/gabrielbrittes/desmatamento/blob/main/desmatamento_brasil.ipynb\" target=\"_parent\"><img src=\"https://colab.research.google.com/assets/colab-badge.svg\" alt=\"Open In Colab\"/></a>"
      ]
    },
    {
      "cell_type": "code",
      "execution_count": null,
      "metadata": {
        "id": "paC94kfnNjMR"
      },
      "outputs": [],
      "source": [
        "#Import necessário do kaggle\n",
        "import os\n",
        "os.environ['KAGGLE_CONFIG_DIR'] = '/content'"
      ]
    },
    {
      "cell_type": "code",
      "source": [
        "#Download do Dataset\n",
        "!kaggle datasets download -d fidelissauro/desmatamento-brasil\n",
        "!chmod 600 /content/kaggle.json"
      ],
      "metadata": {
        "colab": {
          "base_uri": "https://localhost:8080/"
        },
        "id": "5UAsHCgAQzLy",
        "outputId": "4ce203a2-7140-47fb-cb40-3f94b9c89783"
      },
      "execution_count": null,
      "outputs": [
        {
          "output_type": "stream",
          "name": "stdout",
          "text": [
            "Warning: Your Kaggle API key is readable by other users on this system! To fix this, you can run 'chmod 600 /content/kaggle.json'\n",
            "Downloading desmatamento-brasil.zip to /content\n",
            "  0% 0.00/1.07k [00:00<?, ?B/s]\n",
            "100% 1.07k/1.07k [00:00<00:00, 2.78MB/s]\n"
          ]
        }
      ]
    },
    {
      "cell_type": "code",
      "source": [
        "#Descompactando o arquivo, não precisará caso o arquivo já esteja aqui (o deixei no drive)\n",
        "!unzip \\*.zip && rm *.zip"
      ],
      "metadata": {
        "id": "KSmaqntJRNtg",
        "colab": {
          "base_uri": "https://localhost:8080/"
        },
        "outputId": "ffc94fd9-91d7-4ae2-f56f-8c48f45886d7"
      },
      "execution_count": null,
      "outputs": [
        {
          "output_type": "stream",
          "name": "stdout",
          "text": [
            "Archive:  desmatamento-brasil.zip\n",
            "  inflating: desmatamento_prodes.csv  \n"
          ]
        }
      ]
    },
    {
      "cell_type": "code",
      "source": [
        "#Verificando o processamento dos dados com o pyspark\n",
        "!pip install pyspark\n",
        "\n",
        "# Cria a SparkSession\n",
        "from pyspark.sql import SparkSession\n",
        "\n",
        "# Cria uma nova instância do SparkSession\n",
        "spark = SparkSession.builder.master(\"local[*]\").getOrCreate()\n",
        "\n",
        "# Lê o CSV para um dataframe, utilizando header e partindo do ponto que o CSV é separado por virgulas\n",
        "dados = (\n",
        "    spark\n",
        "    .read\n",
        "    .csv(\"/content/desmatamento_prodes.csv\", header=True, sep=\",\", inferSchema=True)\n",
        ")\n",
        "\n",
        "# Printa o schema do DataFrame\n",
        "dados.printSchema()\n",
        "\n",
        "# Mostra os dados do DataFrame\n",
        "dados.show()"
      ],
      "metadata": {
        "id": "Q_FrpzzMO-Hc",
        "colab": {
          "base_uri": "https://localhost:8080/"
        },
        "outputId": "eb5201b4-d947-4b99-c3b1-6ef61ade0d2c"
      },
      "execution_count": null,
      "outputs": [
        {
          "output_type": "stream",
          "name": "stdout",
          "text": [
            "Collecting pyspark\n",
            "  Downloading pyspark-3.4.1.tar.gz (310.8 MB)\n",
            "\u001b[2K     \u001b[90m━━━━━━━━━━━━━━━━━━━━━━━━━━━━━━━━━━━━━━━\u001b[0m \u001b[32m310.8/310.8 MB\u001b[0m \u001b[31m4.6 MB/s\u001b[0m eta \u001b[36m0:00:00\u001b[0m\n",
            "\u001b[?25h  Preparing metadata (setup.py) ... \u001b[?25l\u001b[?25hdone\n",
            "Requirement already satisfied: py4j==0.10.9.7 in /usr/local/lib/python3.10/dist-packages (from pyspark) (0.10.9.7)\n",
            "Building wheels for collected packages: pyspark\n",
            "  Building wheel for pyspark (setup.py) ... \u001b[?25l\u001b[?25hdone\n",
            "  Created wheel for pyspark: filename=pyspark-3.4.1-py2.py3-none-any.whl size=311285398 sha256=04110bbf6d225efe3ae64496cbbda6e5b92c0944d0be6ef99a61991a1c74e043\n",
            "  Stored in directory: /root/.cache/pip/wheels/0d/77/a3/ff2f74cc9ab41f8f594dabf0579c2a7c6de920d584206e0834\n",
            "Successfully built pyspark\n",
            "Installing collected packages: pyspark\n",
            "Successfully installed pyspark-3.4.1\n",
            "root\n",
            " |-- referencia: integer (nullable = true)\n",
            " |-- acre: integer (nullable = true)\n",
            " |-- amazonas: integer (nullable = true)\n",
            " |-- amapa: integer (nullable = true)\n",
            " |-- maranhao: integer (nullable = true)\n",
            " |-- mato_grosso: integer (nullable = true)\n",
            " |-- para: integer (nullable = true)\n",
            " |-- rondonia: integer (nullable = true)\n",
            " |-- roraima: integer (nullable = true)\n",
            " |-- tocantins: integer (nullable = true)\n",
            " |-- area_total_desmatamento: integer (nullable = true)\n",
            "\n",
            "+----------+----+--------+-----+--------+-----------+----+--------+-------+---------+-----------------------+\n",
            "|referencia|acre|amazonas|amapa|maranhao|mato_grosso|para|rondonia|roraima|tocantins|area_total_desmatamento|\n",
            "+----------+----+--------+-----+--------+-----------+----+--------+-------+---------+-----------------------+\n",
            "|      1988| 620|    1510|   60|    2450|       5140|6990|    2340|    290|     1650|                  21050|\n",
            "|      1989| 540|    1180|  130|    1420|       5960|5750|    1430|    630|      730|                  17770|\n",
            "|      1990| 550|     520|  250|    1100|       4020|4890|    1670|    150|      580|                  13730|\n",
            "|      1991| 380|     980|  410|     670|       2840|3780|    1110|    420|      440|                  11030|\n",
            "|      1992| 400|     799|   36|    1135|       4674|3787|    2265|    281|      409|                  13786|\n",
            "|      1993| 482|     370|    0|     372|       6220|4284|    2595|    240|      333|                  14896|\n",
            "|      1994| 482|     370|    0|     372|       6220|4284|    2595|    240|      333|                  14896|\n",
            "|      1995|1208|    2114|    9|    1745|      10391|7845|    4730|    220|      797|                  29059|\n",
            "|      1996| 433|    1023|    0|    1061|       6543|6135|    2432|    214|      320|                  18161|\n",
            "|      1997| 358|     589|   18|     409|       5271|4139|    1986|    184|      273|                  13227|\n",
            "|      1998| 536|     670|   30|    1012|       6466|5829|    2041|    223|      576|                  17383|\n",
            "|      1999| 441|     720|    0|    1230|       6963|5111|    2358|    220|      216|                  17259|\n",
            "|      2000| 547|     612|    0|    1065|       6369|6671|    2465|    253|      244|                  18226|\n",
            "|      2001| 419|     634|    7|     958|       7703|5237|    2673|    345|      189|                  18165|\n",
            "|      2002| 883|     885|    0|    1085|       7892|7510|    3099|     84|      212|                  21650|\n",
            "|      2003|1078|    1558|   25|     993|      10405|7145|    3597|    439|      156|                  25396|\n",
            "|      2004| 728|    1232|   46|     755|      11814|8870|    3858|    311|      158|                  27772|\n",
            "|      2005| 592|     775|   33|     922|       7145|5899|    3244|    133|      271|                  19014|\n",
            "|      2006| 398|     788|   30|     674|       4333|5659|    2049|    231|      124|                  14286|\n",
            "|      2007| 184|     610|   39|     631|       2678|5526|    1611|    309|       63|                  11651|\n",
            "+----------+----+--------+-----+--------+-----------+----+--------+-------+---------+-----------------------+\n",
            "only showing top 20 rows\n",
            "\n"
          ]
        }
      ]
    },
    {
      "cell_type": "code",
      "source": [
        "#Criando uma view para testar os dados\n",
        "dados.createOrReplaceTempView('view_dados_temp')"
      ],
      "metadata": {
        "id": "RZbixQeEGTv3"
      },
      "execution_count": null,
      "outputs": []
    },
    {
      "cell_type": "code",
      "source": [
        "# Testando se os dados foram 'ingeridos' e estão manipulaveis\n",
        "# area_total_desmatamentos: número de novos óbitos desde o último dia, estarei ordenando pelo maior valor\n",
        "spark.sql(\"\"\"\n",
        "    SELECT *\n",
        "      FROM view_dados_temp\n",
        "     ORDER BY area_total_desmatamento DESC\n",
        "\"\"\").show()"
      ],
      "metadata": {
        "colab": {
          "base_uri": "https://localhost:8080/"
        },
        "id": "aKNscL7vEQGy",
        "outputId": "70ffe76b-9572-46f4-b943-7ab71b4b1837"
      },
      "execution_count": null,
      "outputs": [
        {
          "output_type": "stream",
          "name": "stdout",
          "text": [
            "+----------+----+--------+-----+--------+-----------+----+--------+-------+---------+-----------------------+\n",
            "|referencia|acre|amazonas|amapa|maranhao|mato_grosso|para|rondonia|roraima|tocantins|area_total_desmatamento|\n",
            "+----------+----+--------+-----+--------+-----------+----+--------+-------+---------+-----------------------+\n",
            "|      1995|1208|    2114|    9|    1745|      10391|7845|    4730|    220|      797|                  29059|\n",
            "|      2004| 728|    1232|   46|     755|      11814|8870|    3858|    311|      158|                  27772|\n",
            "|      2003|1078|    1558|   25|     993|      10405|7145|    3597|    439|      156|                  25396|\n",
            "|      2002| 883|     885|    0|    1085|       7892|7510|    3099|     84|      212|                  21650|\n",
            "|      1988| 620|    1510|   60|    2450|       5140|6990|    2340|    290|     1650|                  21050|\n",
            "|      2005| 592|     775|   33|     922|       7145|5899|    3244|    133|      271|                  19014|\n",
            "|      2000| 547|     612|    0|    1065|       6369|6671|    2465|    253|      244|                  18226|\n",
            "|      2001| 419|     634|    7|     958|       7703|5237|    2673|    345|      189|                  18165|\n",
            "|      1996| 433|    1023|    0|    1061|       6543|6135|    2432|    214|      320|                  18161|\n",
            "|      1989| 540|    1180|  130|    1420|       5960|5750|    1430|    630|      730|                  17770|\n",
            "|      1998| 536|     670|   30|    1012|       6466|5829|    2041|    223|      576|                  17383|\n",
            "|      1999| 441|     720|    0|    1230|       6963|5111|    2358|    220|      216|                  17259|\n",
            "|      1993| 482|     370|    0|     372|       6220|4284|    2595|    240|      333|                  14896|\n",
            "|      1994| 482|     370|    0|     372|       6220|4284|    2595|    240|      333|                  14896|\n",
            "|      2006| 398|     788|   30|     674|       4333|5659|    2049|    231|      124|                  14286|\n",
            "|      1992| 400|     799|   36|    1135|       4674|3787|    2265|    281|      409|                  13786|\n",
            "|      1990| 550|     520|  250|    1100|       4020|4890|    1670|    150|      580|                  13730|\n",
            "|      1997| 358|     589|   18|     409|       5271|4139|    1986|    184|      273|                  13227|\n",
            "|      2021| 889|    2306|   17|     350|       2213|5238|    1673|    315|       37|                  13038|\n",
            "|      2008| 254|     604|  100|    1271|       3258|5607|    1136|    574|      107|                  12911|\n",
            "+----------+----+--------+-----+--------+-----------+----+--------+-------+---------+-----------------------+\n",
            "only showing top 20 rows\n",
            "\n"
          ]
        }
      ]
    },
    {
      "cell_type": "code",
      "source": [],
      "metadata": {
        "id": "Rz37a3P6avQj"
      },
      "execution_count": null,
      "outputs": []
    }
  ]
}